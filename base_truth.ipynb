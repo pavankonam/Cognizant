{
  "nbformat": 4,
  "nbformat_minor": 0,
  "metadata": {
    "colab": {
      "name": "base_truth.ipynb",
      "provenance": [],
      "authorship_tag": "ABX9TyNtoBbne/p35wRBRlV96RsR",
      "include_colab_link": true
    },
    "kernelspec": {
      "name": "python3",
      "display_name": "Python 3"
    },
    "language_info": {
      "name": "python"
    }
  },
  "cells": [
    {
      "cell_type": "markdown",
      "metadata": {
        "id": "view-in-github",
        "colab_type": "text"
      },
      "source": [
        "<a href=\"https://colab.research.google.com/github/pavankonam/Cognizant/blob/main/base_truth.ipynb\" target=\"_parent\"><img src=\"https://colab.research.google.com/assets/colab-badge.svg\" alt=\"Open In Colab\"/></a>"
      ]
    },
    {
      "cell_type": "code",
      "execution_count": 3,
      "metadata": {
        "colab": {
          "base_uri": "https://localhost:8080/"
        },
        "id": "BCjlRnAYyv2q",
        "outputId": "6b40a594-59b4-43bb-fb31-08a3e844b2f5"
      },
      "outputs": [
        {
          "output_type": "stream",
          "name": "stdout",
          "text": [
            "2\n",
            "['0', '1', '10', '11', '100', '101', '110', '111', '1000', '1001', '1010', '1011', '1100', '1101', '1110', '1111', '10000', '10001', '10010', '10011', '10100', '10101', '10110', '10111', '11000', '11001', '11010', '11011', '11100', '11101', '11110', '11111', '100000', '100001', '100010', '100011', '100100', '100101', '100110', '100111', '101000', '101001', '101010', '101011', '101100', '101101', '101110', '101111', '110000', '110001']\n"
          ]
        }
      ],
      "source": [
        "a = int(input())\n",
        "b=[]\n",
        "if a<17:\n",
        "  for i in range(0, 50):\n",
        "    s = \"\"\n",
        "    while i != 0:\n",
        "      r = i % a\n",
        "      if r >=10 :\n",
        "        r = chr(65 + r - 10)\n",
        "      s = s + str(r)\n",
        "      i = int(i/a)\n",
        "    if s == \"\":\n",
        "      s = \"0\"\n",
        "    b.append(s[::-1])\n",
        "print(b)"
      ]
    },
    {
      "cell_type": "code",
      "source": [
        "%%writefile basetruth.py\n",
        "\n",
        "a = int(input())\n",
        "b=[]\n",
        "if a<17:\n",
        "  for i in range(0, 50):\n",
        "    s = \"\"\n",
        "    while i != 0:\n",
        "      r = i % a\n",
        "      if r >=10 :\n",
        "        r = chr(65 + r - 10)\n",
        "      s = s + str(r)\n",
        "      i = int(i/a)\n",
        "    if s == \"\":\n",
        "      s = \"0\"\n",
        "    b.append(s[::-1])\n",
        "print(b)"
      ],
      "metadata": {
        "colab": {
          "base_uri": "https://localhost:8080/"
        },
        "id": "FNXOkl6a1qCn",
        "outputId": "48ea0481-7f4b-431c-96a9-d199d52743f9"
      },
      "execution_count": 4,
      "outputs": [
        {
          "output_type": "stream",
          "name": "stdout",
          "text": [
            "Writing basetruth.py\n"
          ]
        }
      ]
    }
  ]
}