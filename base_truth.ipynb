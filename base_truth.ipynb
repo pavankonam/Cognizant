{
  "nbformat": 4,
  "nbformat_minor": 0,
  "metadata": {
    "colab": {
      "name": "base_truth.ipynb",
      "provenance": [],
      "authorship_tag": "ABX9TyNhjhuorMD8ewyniZ2AEXxh",
      "include_colab_link": true
    },
    "kernelspec": {
      "name": "python3",
      "display_name": "Python 3"
    },
    "language_info": {
      "name": "python"
    }
  },
  "cells": [
    {
      "cell_type": "markdown",
      "metadata": {
        "id": "view-in-github",
        "colab_type": "text"
      },
      "source": [
        "<a href=\"https://colab.research.google.com/github/pavankonam/Cognizant/blob/main/base_truth.ipynb\" target=\"_parent\"><img src=\"https://colab.research.google.com/assets/colab-badge.svg\" alt=\"Open In Colab\"/></a>"
      ]
    },
    {
      "cell_type": "code",
      "execution_count": 9,
      "metadata": {
        "colab": {
          "base_uri": "https://localhost:8080/"
        },
        "id": "BCjlRnAYyv2q",
        "outputId": "cc53a4a9-23d4-46be-e3cd-38dafe7fbb9e"
      },
      "outputs": [
        {
          "output_type": "stream",
          "name": "stdout",
          "text": [
            "3\n",
            "['0', '1', '2', '10', '11', '12', '20', '21', '22', '100', '101', '102', '110', '111', '112', '120', '121', '122', '200', '201', '202', '210', '211', '212', '220', '221', '222', '1000', '1001', '1002', '1010', '1011', '1012', '1020', '1021', '1022', '1100', '1101', '1102', '1110', '1111', '1112', '1120', '1121', '1122', '1200', '1201', '1202', '1210', '1211']\n"
          ]
        }
      ],
      "source": [
        "try:\n",
        "  a = int(input())\n",
        "  b=[]\n",
        "  if a<17 and a>1:\n",
        "    for i in range(0, 50):\n",
        "      s = \"\"\n",
        "      while i != 0:\n",
        "        r = i % a\n",
        "        if r >=10 :\n",
        "          r = chr(65 + r - 10)\n",
        "        s = s + str(r)\n",
        "        i = int(i/a)\n",
        "      if s == \"\":\n",
        "        s = \"0\"\n",
        "      b.append(s[::-1])\n",
        "  print(b)\n",
        "except:\n",
        "  print(\"Error\")"
      ]
    },
    {
      "cell_type": "code",
      "source": [
        "%%writefile basetruth.py\n",
        "\n",
        "try:\n",
        "  a = int(input())\n",
        "  b=[]\n",
        "  if a<17 and a>1:\n",
        "    for i in range(0, 50):\n",
        "      s = \"\"\n",
        "      while i != 0:\n",
        "        r = i % a\n",
        "        if r >=10 :\n",
        "          r = chr(65 + r - 10)\n",
        "        s = s + str(r)\n",
        "        i = int(i/a)\n",
        "      if s == \"\":\n",
        "        s = \"0\"\n",
        "      b.append(s[::-1])\n",
        "  print(b)\n",
        "except:\n",
        "  print(\"Error\")"
      ],
      "metadata": {
        "colab": {
          "base_uri": "https://localhost:8080/"
        },
        "id": "FNXOkl6a1qCn",
        "outputId": "cb7dcc06-0fff-4424-e6e1-46202770b4cf"
      },
      "execution_count": 10,
      "outputs": [
        {
          "output_type": "stream",
          "name": "stdout",
          "text": [
            "Overwriting basetruth.py\n"
          ]
        }
      ]
    }
  ]
}