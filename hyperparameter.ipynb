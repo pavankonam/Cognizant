{
  "nbformat": 4,
  "nbformat_minor": 0,
  "metadata": {
    "colab": {
      "name": "hyperparameter.ipynb",
      "provenance": [],
      "collapsed_sections": [],
      "authorship_tag": "ABX9TyMMGAlx/8aenXmpvLLB2EFK",
      "include_colab_link": true
    },
    "kernelspec": {
      "name": "python3",
      "display_name": "Python 3"
    },
    "language_info": {
      "name": "python"
    }
  },
  "cells": [
    {
      "cell_type": "markdown",
      "metadata": {
        "id": "view-in-github",
        "colab_type": "text"
      },
      "source": [
        "<a href=\"https://colab.research.google.com/github/pavankonam/Cognizant/blob/main/hyperparameter.ipynb\" target=\"_parent\"><img src=\"https://colab.research.google.com/assets/colab-badge.svg\" alt=\"Open In Colab\"/></a>"
      ]
    },
    {
      "cell_type": "markdown",
      "source": [
        "Importing Libraries"
      ],
      "metadata": {
        "id": "aibVd0fRZMaT"
      }
    },
    {
      "cell_type": "code",
      "execution_count": 18,
      "metadata": {
        "id": "MFxh1zxyPYbQ"
      },
      "outputs": [],
      "source": [
        "import pandas as pd\n",
        "import numpy as np"
      ]
    },
    {
      "cell_type": "markdown",
      "source": [
        "Loading Data"
      ],
      "metadata": {
        "id": "wrZNizMaZPab"
      }
    },
    {
      "cell_type": "code",
      "source": [
        "li=pd.read_excel(\"/content/LifeUniverseAndEverything.xlsx\")\n",
        "li.head()"
      ],
      "metadata": {
        "colab": {
          "base_uri": "https://localhost:8080/",
          "height": 206
        },
        "id": "nM_Q_vgMPfe6",
        "outputId": "3b8bab2e-d92f-47ad-cd4d-72956c7e97df"
      },
      "execution_count": 20,
      "outputs": [
        {
          "output_type": "execute_result",
          "data": {
            "text/plain": [
              "   Life  O2  O3  H2O  N2  H2  Sunlight  Aliens  Plants\n",
              "0     5   6  38   48  25  38         0       1       1\n",
              "1     4   0   4    2   6  13         0       1       0\n",
              "2     4  11   3   78  30  15         0       0       1\n",
              "3     0  22  30   68  28  23         0       1       0\n",
              "4    10  20  23   56  20  27         1       0       1"
            ],
            "text/html": [
              "\n",
              "  <div id=\"df-70878633-fc20-4910-985a-6386c1a7b78f\">\n",
              "    <div class=\"colab-df-container\">\n",
              "      <div>\n",
              "<style scoped>\n",
              "    .dataframe tbody tr th:only-of-type {\n",
              "        vertical-align: middle;\n",
              "    }\n",
              "\n",
              "    .dataframe tbody tr th {\n",
              "        vertical-align: top;\n",
              "    }\n",
              "\n",
              "    .dataframe thead th {\n",
              "        text-align: right;\n",
              "    }\n",
              "</style>\n",
              "<table border=\"1\" class=\"dataframe\">\n",
              "  <thead>\n",
              "    <tr style=\"text-align: right;\">\n",
              "      <th></th>\n",
              "      <th>Life</th>\n",
              "      <th>O2</th>\n",
              "      <th>O3</th>\n",
              "      <th>H2O</th>\n",
              "      <th>N2</th>\n",
              "      <th>H2</th>\n",
              "      <th>Sunlight</th>\n",
              "      <th>Aliens</th>\n",
              "      <th>Plants</th>\n",
              "    </tr>\n",
              "  </thead>\n",
              "  <tbody>\n",
              "    <tr>\n",
              "      <th>0</th>\n",
              "      <td>5</td>\n",
              "      <td>6</td>\n",
              "      <td>38</td>\n",
              "      <td>48</td>\n",
              "      <td>25</td>\n",
              "      <td>38</td>\n",
              "      <td>0</td>\n",
              "      <td>1</td>\n",
              "      <td>1</td>\n",
              "    </tr>\n",
              "    <tr>\n",
              "      <th>1</th>\n",
              "      <td>4</td>\n",
              "      <td>0</td>\n",
              "      <td>4</td>\n",
              "      <td>2</td>\n",
              "      <td>6</td>\n",
              "      <td>13</td>\n",
              "      <td>0</td>\n",
              "      <td>1</td>\n",
              "      <td>0</td>\n",
              "    </tr>\n",
              "    <tr>\n",
              "      <th>2</th>\n",
              "      <td>4</td>\n",
              "      <td>11</td>\n",
              "      <td>3</td>\n",
              "      <td>78</td>\n",
              "      <td>30</td>\n",
              "      <td>15</td>\n",
              "      <td>0</td>\n",
              "      <td>0</td>\n",
              "      <td>1</td>\n",
              "    </tr>\n",
              "    <tr>\n",
              "      <th>3</th>\n",
              "      <td>0</td>\n",
              "      <td>22</td>\n",
              "      <td>30</td>\n",
              "      <td>68</td>\n",
              "      <td>28</td>\n",
              "      <td>23</td>\n",
              "      <td>0</td>\n",
              "      <td>1</td>\n",
              "      <td>0</td>\n",
              "    </tr>\n",
              "    <tr>\n",
              "      <th>4</th>\n",
              "      <td>10</td>\n",
              "      <td>20</td>\n",
              "      <td>23</td>\n",
              "      <td>56</td>\n",
              "      <td>20</td>\n",
              "      <td>27</td>\n",
              "      <td>1</td>\n",
              "      <td>0</td>\n",
              "      <td>1</td>\n",
              "    </tr>\n",
              "  </tbody>\n",
              "</table>\n",
              "</div>\n",
              "      <button class=\"colab-df-convert\" onclick=\"convertToInteractive('df-70878633-fc20-4910-985a-6386c1a7b78f')\"\n",
              "              title=\"Convert this dataframe to an interactive table.\"\n",
              "              style=\"display:none;\">\n",
              "        \n",
              "  <svg xmlns=\"http://www.w3.org/2000/svg\" height=\"24px\"viewBox=\"0 0 24 24\"\n",
              "       width=\"24px\">\n",
              "    <path d=\"M0 0h24v24H0V0z\" fill=\"none\"/>\n",
              "    <path d=\"M18.56 5.44l.94 2.06.94-2.06 2.06-.94-2.06-.94-.94-2.06-.94 2.06-2.06.94zm-11 1L8.5 8.5l.94-2.06 2.06-.94-2.06-.94L8.5 2.5l-.94 2.06-2.06.94zm10 10l.94 2.06.94-2.06 2.06-.94-2.06-.94-.94-2.06-.94 2.06-2.06.94z\"/><path d=\"M17.41 7.96l-1.37-1.37c-.4-.4-.92-.59-1.43-.59-.52 0-1.04.2-1.43.59L10.3 9.45l-7.72 7.72c-.78.78-.78 2.05 0 2.83L4 21.41c.39.39.9.59 1.41.59.51 0 1.02-.2 1.41-.59l7.78-7.78 2.81-2.81c.8-.78.8-2.07 0-2.86zM5.41 20L4 18.59l7.72-7.72 1.47 1.35L5.41 20z\"/>\n",
              "  </svg>\n",
              "      </button>\n",
              "      \n",
              "  <style>\n",
              "    .colab-df-container {\n",
              "      display:flex;\n",
              "      flex-wrap:wrap;\n",
              "      gap: 12px;\n",
              "    }\n",
              "\n",
              "    .colab-df-convert {\n",
              "      background-color: #E8F0FE;\n",
              "      border: none;\n",
              "      border-radius: 50%;\n",
              "      cursor: pointer;\n",
              "      display: none;\n",
              "      fill: #1967D2;\n",
              "      height: 32px;\n",
              "      padding: 0 0 0 0;\n",
              "      width: 32px;\n",
              "    }\n",
              "\n",
              "    .colab-df-convert:hover {\n",
              "      background-color: #E2EBFA;\n",
              "      box-shadow: 0px 1px 2px rgba(60, 64, 67, 0.3), 0px 1px 3px 1px rgba(60, 64, 67, 0.15);\n",
              "      fill: #174EA6;\n",
              "    }\n",
              "\n",
              "    [theme=dark] .colab-df-convert {\n",
              "      background-color: #3B4455;\n",
              "      fill: #D2E3FC;\n",
              "    }\n",
              "\n",
              "    [theme=dark] .colab-df-convert:hover {\n",
              "      background-color: #434B5C;\n",
              "      box-shadow: 0px 1px 3px 1px rgba(0, 0, 0, 0.15);\n",
              "      filter: drop-shadow(0px 1px 2px rgba(0, 0, 0, 0.3));\n",
              "      fill: #FFFFFF;\n",
              "    }\n",
              "  </style>\n",
              "\n",
              "      <script>\n",
              "        const buttonEl =\n",
              "          document.querySelector('#df-70878633-fc20-4910-985a-6386c1a7b78f button.colab-df-convert');\n",
              "        buttonEl.style.display =\n",
              "          google.colab.kernel.accessAllowed ? 'block' : 'none';\n",
              "\n",
              "        async function convertToInteractive(key) {\n",
              "          const element = document.querySelector('#df-70878633-fc20-4910-985a-6386c1a7b78f');\n",
              "          const dataTable =\n",
              "            await google.colab.kernel.invokeFunction('convertToInteractive',\n",
              "                                                     [key], {});\n",
              "          if (!dataTable) return;\n",
              "\n",
              "          const docLinkHtml = 'Like what you see? Visit the ' +\n",
              "            '<a target=\"_blank\" href=https://colab.research.google.com/notebooks/data_table.ipynb>data table notebook</a>'\n",
              "            + ' to learn more about interactive tables.';\n",
              "          element.innerHTML = '';\n",
              "          dataTable['output_type'] = 'display_data';\n",
              "          await google.colab.output.renderOutput(dataTable, element);\n",
              "          const docLink = document.createElement('div');\n",
              "          docLink.innerHTML = docLinkHtml;\n",
              "          element.appendChild(docLink);\n",
              "        }\n",
              "      </script>\n",
              "    </div>\n",
              "  </div>\n",
              "  "
            ]
          },
          "metadata": {},
          "execution_count": 20
        }
      ]
    },
    {
      "cell_type": "markdown",
      "source": [
        "Declaring a and b variables"
      ],
      "metadata": {
        "id": "GtbOfIEPZSWX"
      }
    },
    {
      "cell_type": "code",
      "source": [
        "a = li.drop('Life', axis=1)\n",
        "b = li['Life']\n",
        "li.dropna(inplace=True)\n",
        "li.shape"
      ],
      "metadata": {
        "colab": {
          "base_uri": "https://localhost:8080/"
        },
        "id": "KjgtnO3WXyor",
        "outputId": "02c3f403-e09a-4ade-8096-d864a933a235"
      },
      "execution_count": 21,
      "outputs": [
        {
          "output_type": "execute_result",
          "data": {
            "text/plain": [
              "(200, 9)"
            ]
          },
          "metadata": {},
          "execution_count": 21
        }
      ]
    },
    {
      "cell_type": "markdown",
      "source": [
        "Implementing Grid Search"
      ],
      "metadata": {
        "id": "iCv0YNG8ZU-d"
      }
    },
    {
      "cell_type": "code",
      "source": [
        "from sklearn.pipeline import Pipeline #sklearn==0.23.2\n",
        "from sklearn.preprocessing import StandardScaler, OneHotEncoder\n",
        "from sklearn.compose import make_column_transformer\n",
        "from lightgbm import LGBMClassifier\n",
        "tuples = list()\n",
        "tuples.append((Pipeline([\n",
        "        ('scaler', StandardScaler()),\n",
        "    ]), [\"O2\",\"O3\",\"H2O\",\"N2\",\"H2\"]))\n",
        "\n",
        "\n",
        "preprocess = make_column_transformer(*tuples)\n",
        "\n",
        "pipe = Pipeline([\n",
        "    ('preprocess', preprocess),\n",
        "    ('classifier', LGBMClassifier())\n",
        "])\n",
        "from sklearn.model_selection import GridSearchCV\n",
        "param_grid = {\n",
        "    \"classifier__learning_rate\": [0.0001, 0.0005, 0.001, 0.01, 0.1],\n",
        "    \"classifier__n_estimators\": [100, 300, 600, 800, 1000],\n",
        "    \"classifier__max_depth\": [ 4, 20, 100, 250, 400] \n",
        "}\n",
        "\n",
        "reg_grid = GridSearchCV(pipe,\n",
        "                        param_grid=param_grid,\n",
        "                        cv=5,\n",
        "                        n_jobs=8, \n",
        "                        scoring='roc_auc'\n",
        "                       )\n",
        "\n",
        "model_grid = reg_grid.fit(a, b)"
      ],
      "metadata": {
        "id": "sQkIFTkeY6TO",
        "colab": {
          "base_uri": "https://localhost:8080/"
        },
        "outputId": "cb3acad4-5a9c-43e6-ebd7-c2062fea1fb9"
      },
      "execution_count": 22,
      "outputs": [
        {
          "output_type": "stream",
          "name": "stderr",
          "text": [
            "/usr/local/lib/python3.7/dist-packages/sklearn/model_selection/_search.py:972: UserWarning: One or more of the test scores are non-finite: [nan nan nan nan nan nan nan nan nan nan nan nan nan nan nan nan nan nan\n",
            " nan nan nan nan nan nan nan nan nan nan nan nan nan nan nan nan nan nan\n",
            " nan nan nan nan nan nan nan nan nan nan nan nan nan nan nan nan nan nan\n",
            " nan nan nan nan nan nan nan nan nan nan nan nan nan nan nan nan nan nan\n",
            " nan nan nan nan nan nan nan nan nan nan nan nan nan nan nan nan nan nan\n",
            " nan nan nan nan nan nan nan nan nan nan nan nan nan nan nan nan nan nan\n",
            " nan nan nan nan nan nan nan nan nan nan nan nan nan nan nan nan nan]\n",
            "  category=UserWarning,\n"
          ]
        }
      ]
    },
    {
      "cell_type": "code",
      "source": [
        "param = 'param_classifier__learning_rate'\n",
        "\n",
        "grid = model_grid.cv_results_[param]\n",
        "grid"
      ],
      "metadata": {
        "id": "aRdREJGMZhrW",
        "colab": {
          "base_uri": "https://localhost:8080/"
        },
        "outputId": "4a8887a7-1bbd-4023-cace-0fd51dffa43a"
      },
      "execution_count": 23,
      "outputs": [
        {
          "output_type": "execute_result",
          "data": {
            "text/plain": [
              "masked_array(data=[0.0001, 0.0001, 0.0001, 0.0001, 0.0001, 0.0001, 0.0001,\n",
              "                   0.0001, 0.0001, 0.0001, 0.0001, 0.0001, 0.0001, 0.0001,\n",
              "                   0.0001, 0.0001, 0.0001, 0.0001, 0.0001, 0.0001, 0.0001,\n",
              "                   0.0001, 0.0001, 0.0001, 0.0001, 0.0005, 0.0005, 0.0005,\n",
              "                   0.0005, 0.0005, 0.0005, 0.0005, 0.0005, 0.0005, 0.0005,\n",
              "                   0.0005, 0.0005, 0.0005, 0.0005, 0.0005, 0.0005, 0.0005,\n",
              "                   0.0005, 0.0005, 0.0005, 0.0005, 0.0005, 0.0005, 0.0005,\n",
              "                   0.0005, 0.001, 0.001, 0.001, 0.001, 0.001, 0.001,\n",
              "                   0.001, 0.001, 0.001, 0.001, 0.001, 0.001, 0.001, 0.001,\n",
              "                   0.001, 0.001, 0.001, 0.001, 0.001, 0.001, 0.001, 0.001,\n",
              "                   0.001, 0.001, 0.001, 0.01, 0.01, 0.01, 0.01, 0.01,\n",
              "                   0.01, 0.01, 0.01, 0.01, 0.01, 0.01, 0.01, 0.01, 0.01,\n",
              "                   0.01, 0.01, 0.01, 0.01, 0.01, 0.01, 0.01, 0.01, 0.01,\n",
              "                   0.01, 0.01, 0.1, 0.1, 0.1, 0.1, 0.1, 0.1, 0.1, 0.1,\n",
              "                   0.1, 0.1, 0.1, 0.1, 0.1, 0.1, 0.1, 0.1, 0.1, 0.1, 0.1,\n",
              "                   0.1, 0.1, 0.1, 0.1, 0.1, 0.1],\n",
              "             mask=[False, False, False, False, False, False, False, False,\n",
              "                   False, False, False, False, False, False, False, False,\n",
              "                   False, False, False, False, False, False, False, False,\n",
              "                   False, False, False, False, False, False, False, False,\n",
              "                   False, False, False, False, False, False, False, False,\n",
              "                   False, False, False, False, False, False, False, False,\n",
              "                   False, False, False, False, False, False, False, False,\n",
              "                   False, False, False, False, False, False, False, False,\n",
              "                   False, False, False, False, False, False, False, False,\n",
              "                   False, False, False, False, False, False, False, False,\n",
              "                   False, False, False, False, False, False, False, False,\n",
              "                   False, False, False, False, False, False, False, False,\n",
              "                   False, False, False, False, False, False, False, False,\n",
              "                   False, False, False, False, False, False, False, False,\n",
              "                   False, False, False, False, False, False, False, False,\n",
              "                   False, False, False, False, False],\n",
              "       fill_value='?',\n",
              "            dtype=object)"
            ]
          },
          "metadata": {},
          "execution_count": 23
        }
      ]
    },
    {
      "cell_type": "markdown",
      "source": [
        "Implementing Random"
      ],
      "metadata": {
        "id": "bB0enEr6ZZVz"
      }
    },
    {
      "cell_type": "code",
      "source": [
        "from sklearn.model_selection import RandomizedSearchCV\n",
        "from scipy.stats import loguniform, randint\n",
        "\n",
        "n_iter = 70\n",
        "\n",
        "param_grid = {\n",
        "    \"classifier__learning_rate\": loguniform(1e-4, 0.1),\n",
        "    \"classifier__n_estimators\": randint(100,1000),\n",
        "    \"classifier__max_depth\": randint(4, 400) \n",
        "}\n",
        "\n",
        "reg_rand = RandomizedSearchCV(pipe,\n",
        "                         param_distributions=param_grid,\n",
        "                         n_iter=n_iter,\n",
        "                         cv=5,\n",
        "                         n_jobs=8,\n",
        "                         scoring='roc_auc',\n",
        "                         random_state=123)\n",
        "\n",
        "model_rand = reg_rand.fit(a, b)"
      ],
      "metadata": {
        "id": "7sYUTXInZjin",
        "colab": {
          "base_uri": "https://localhost:8080/"
        },
        "outputId": "7fe46ad0-7ffd-43b5-aa21-f99f4355baa8"
      },
      "execution_count": 24,
      "outputs": [
        {
          "output_type": "stream",
          "name": "stderr",
          "text": [
            "/usr/local/lib/python3.7/dist-packages/sklearn/model_selection/_search.py:972: UserWarning: One or more of the test scores are non-finite: [nan nan nan nan nan nan nan nan nan nan nan nan nan nan nan nan nan nan\n",
            " nan nan nan nan nan nan nan nan nan nan nan nan nan nan nan nan nan nan\n",
            " nan nan nan nan nan nan nan nan nan nan nan nan nan nan nan nan nan nan\n",
            " nan nan nan nan nan nan nan nan nan nan nan nan nan nan nan nan]\n",
            "  category=UserWarning,\n"
          ]
        }
      ]
    },
    {
      "cell_type": "markdown",
      "source": [
        "Implementing Bayes"
      ],
      "metadata": {
        "id": "fPTR3iwYZ7HQ"
      }
    },
    {
      "cell_type": "code",
      "source": [
        "!pip install scikit-optimize"
      ],
      "metadata": {
        "id": "cqTjxqVSaelw",
        "colab": {
          "base_uri": "https://localhost:8080/"
        },
        "outputId": "801145a4-81cd-4d11-d9be-b08d626f56d3"
      },
      "execution_count": 25,
      "outputs": [
        {
          "output_type": "stream",
          "name": "stdout",
          "text": [
            "Collecting scikit-optimize\n",
            "  Downloading scikit_optimize-0.9.0-py2.py3-none-any.whl (100 kB)\n",
            "\u001b[?25l\r\u001b[K     |███▎                            | 10 kB 25.1 MB/s eta 0:00:01\r\u001b[K     |██████▌                         | 20 kB 14.1 MB/s eta 0:00:01\r\u001b[K     |█████████▉                      | 30 kB 10.1 MB/s eta 0:00:01\r\u001b[K     |█████████████                   | 40 kB 9.1 MB/s eta 0:00:01\r\u001b[K     |████████████████▍               | 51 kB 4.5 MB/s eta 0:00:01\r\u001b[K     |███████████████████▋            | 61 kB 5.3 MB/s eta 0:00:01\r\u001b[K     |██████████████████████▉         | 71 kB 5.7 MB/s eta 0:00:01\r\u001b[K     |██████████████████████████▏     | 81 kB 4.2 MB/s eta 0:00:01\r\u001b[K     |█████████████████████████████▍  | 92 kB 4.7 MB/s eta 0:00:01\r\u001b[K     |████████████████████████████████| 100 kB 3.5 MB/s \n",
            "\u001b[?25hRequirement already satisfied: joblib>=0.11 in /usr/local/lib/python3.7/dist-packages (from scikit-optimize) (1.1.0)\n",
            "Requirement already satisfied: scipy>=0.19.1 in /usr/local/lib/python3.7/dist-packages (from scikit-optimize) (1.4.1)\n",
            "Requirement already satisfied: numpy>=1.13.3 in /usr/local/lib/python3.7/dist-packages (from scikit-optimize) (1.21.5)\n",
            "Collecting pyaml>=16.9\n",
            "  Downloading pyaml-21.10.1-py2.py3-none-any.whl (24 kB)\n",
            "Requirement already satisfied: scikit-learn>=0.20.0 in /usr/local/lib/python3.7/dist-packages (from scikit-optimize) (1.0.2)\n",
            "Requirement already satisfied: PyYAML in /usr/local/lib/python3.7/dist-packages (from pyaml>=16.9->scikit-optimize) (3.13)\n",
            "Requirement already satisfied: threadpoolctl>=2.0.0 in /usr/local/lib/python3.7/dist-packages (from scikit-learn>=0.20.0->scikit-optimize) (3.1.0)\n",
            "Installing collected packages: pyaml, scikit-optimize\n",
            "Successfully installed pyaml-21.10.1 scikit-optimize-0.9.0\n"
          ]
        }
      ]
    },
    {
      "cell_type": "code",
      "source": [
        "from skopt import BayesSearchCV\n",
        "\n",
        "# Bayesian\n",
        "n_iter = 70\n",
        "\n",
        "param_grid = {\n",
        "    \"classifier__learning_rate\": (0.0001, 0.1, \"log-uniform\"),\n",
        "    \"classifier__n_estimators\": (100,  1000) ,\n",
        "    \"classifier__max_depth\": (4, 400) \n",
        "}\n",
        "\n",
        "reg_bay = BayesSearchCV(estimator=pipe,\n",
        "                    search_spaces=param_grid,\n",
        "                    n_iter=n_iter,\n",
        "                    cv=5,\n",
        "                    n_jobs=8,\n",
        "                    random_state=123)\n",
        "\n",
        "model_bay = reg_bay.fit(a, b)"
      ],
      "metadata": {
        "id": "7kOM6uRIaBWo"
      },
      "execution_count": 26,
      "outputs": []
    }
  ]
}