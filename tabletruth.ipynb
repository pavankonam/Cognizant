{
  "nbformat": 4,
  "nbformat_minor": 0,
  "metadata": {
    "colab": {
      "name": "tabletruth.ipynb",
      "provenance": [],
      "authorship_tag": "ABX9TyPbeKhNFvKsCQXlYKh9uVox",
      "include_colab_link": true
    },
    "kernelspec": {
      "name": "python3",
      "display_name": "Python 3"
    },
    "language_info": {
      "name": "python"
    }
  },
  "cells": [
    {
      "cell_type": "markdown",
      "metadata": {
        "id": "view-in-github",
        "colab_type": "text"
      },
      "source": [
        "<a href=\"https://colab.research.google.com/github/pavankonam/Cognizant/blob/main/tabletruth.ipynb\" target=\"_parent\"><img src=\"https://colab.research.google.com/assets/colab-badge.svg\" alt=\"Open In Colab\"/></a>"
      ]
    },
    {
      "cell_type": "code",
      "execution_count": 8,
      "metadata": {
        "colab": {
          "base_uri": "https://localhost:8080/"
        },
        "id": "wVKPhDxFnB95",
        "outputId": "d4a55de5-4941-4f4a-f130-f7ba4542f18b"
      },
      "outputs": [
        {
          "name": "stdout",
          "output_type": "stream",
          "text": [
            "3\n"
          ]
        }
      ],
      "source": [
        "a=int(input())\n",
        "b=[]"
      ]
    },
    {
      "cell_type": "code",
      "source": [
        "for i in range(2**a):\n",
        "  e = [i//2**j%2 for j in reversed(range(a))]\n",
        "  b.append(e)\n",
        "for i in range(len(b)):\n",
        "  print(*b[i],sep='')"
      ],
      "metadata": {
        "colab": {
          "base_uri": "https://localhost:8080/"
        },
        "id": "cFG_UU_5ne9o",
        "outputId": "1f836919-af7a-4d68-c82f-30600f1769dd"
      },
      "execution_count": 9,
      "outputs": [
        {
          "output_type": "stream",
          "name": "stdout",
          "text": [
            "000\n",
            "001\n",
            "010\n",
            "011\n",
            "100\n",
            "101\n",
            "110\n",
            "111\n"
          ]
        }
      ]
    }
  ]
}