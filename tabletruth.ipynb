{
  "nbformat": 4,
  "nbformat_minor": 0,
  "metadata": {
    "colab": {
      "name": "tabletruth.ipynb",
      "provenance": [],
      "authorship_tag": "ABX9TyMZqT7LX5dXtIxhJvpRaY7h",
      "include_colab_link": true
    },
    "kernelspec": {
      "name": "python3",
      "display_name": "Python 3"
    },
    "language_info": {
      "name": "python"
    }
  },
  "cells": [
    {
      "cell_type": "markdown",
      "metadata": {
        "id": "view-in-github",
        "colab_type": "text"
      },
      "source": [
        "<a href=\"https://colab.research.google.com/github/pavankonam/Cognizant/blob/main/tabletruth.ipynb\" target=\"_parent\"><img src=\"https://colab.research.google.com/assets/colab-badge.svg\" alt=\"Open In Colab\"/></a>"
      ]
    },
    {
      "cell_type": "code",
      "source": [
        "%%writefile table.py\n",
        "\n",
        "a=int(input())\n",
        "b=[]\n",
        "for i in range(2**a):\n",
        "  e = [i//2**j%2 for j in reversed(range(a))]\n",
        "  r = \"\".join([str(c) for c in e])\n",
        "  b.append(r)\n",
        "print(b)"
      ],
      "metadata": {
        "colab": {
          "base_uri": "https://localhost:8080/"
        },
        "id": "cFG_UU_5ne9o",
        "outputId": "e1458fb2-2373-4529-b14a-9902f0fe3526"
      },
      "execution_count": 25,
      "outputs": [
        {
          "output_type": "stream",
          "name": "stdout",
          "text": [
            "Overwriting table.py\n"
          ]
        }
      ]
    },
    {
      "cell_type": "code",
      "source": [
        "!python table.py"
      ],
      "metadata": {
        "id": "aZCBHnF6vdVb",
        "colab": {
          "base_uri": "https://localhost:8080/"
        },
        "outputId": "0c6fe087-4a1c-4a2d-da37-be35f9924c7e"
      },
      "execution_count": 26,
      "outputs": [
        {
          "output_type": "stream",
          "name": "stdout",
          "text": [
            "3\n",
            "['000', '001', '010', '011', '100', '101', '110', '111']\n"
          ]
        }
      ]
    },
    {
      "cell_type": "code",
      "source": [
        "%%writefile -a table.py\n",
        "\n",
        "print(\"this is truth table\")"
      ],
      "metadata": {
        "colab": {
          "base_uri": "https://localhost:8080/"
        },
        "id": "WQ9HGO7MvoCu",
        "outputId": "6ddbb37b-2a4b-4b31-c6dd-ecdd6d0f4fe6"
      },
      "execution_count": 27,
      "outputs": [
        {
          "output_type": "stream",
          "name": "stdout",
          "text": [
            "Appending to table.py\n"
          ]
        }
      ]
    },
    {
      "cell_type": "code",
      "source": [
        "!python table.py"
      ],
      "metadata": {
        "colab": {
          "base_uri": "https://localhost:8080/"
        },
        "id": "KZ0atRTsv0Fr",
        "outputId": "4ec0c22c-ab2d-4f76-af2c-b2316de0c89e"
      },
      "execution_count": 28,
      "outputs": [
        {
          "output_type": "stream",
          "name": "stdout",
          "text": [
            "3\n",
            "['000', '001', '010', '011', '100', '101', '110', '111']\n",
            "this is truth table\n"
          ]
        }
      ]
    }
  ]
}