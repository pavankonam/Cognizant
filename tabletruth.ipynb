{
  "nbformat": 4,
  "nbformat_minor": 0,
  "metadata": {
    "colab": {
      "name": "tabletruth.ipynb",
      "provenance": [],
      "authorship_tag": "ABX9TyOLTmCweIb4S9+B6JB3vFRH",
      "include_colab_link": true
    },
    "kernelspec": {
      "name": "python3",
      "display_name": "Python 3"
    },
    "language_info": {
      "name": "python"
    }
  },
  "cells": [
    {
      "cell_type": "markdown",
      "metadata": {
        "id": "view-in-github",
        "colab_type": "text"
      },
      "source": [
        "<a href=\"https://colab.research.google.com/github/pavankonam/Cognizant/blob/main/tabletruth.ipynb\" target=\"_parent\"><img src=\"https://colab.research.google.com/assets/colab-badge.svg\" alt=\"Open In Colab\"/></a>"
      ]
    },
    {
      "cell_type": "code",
      "execution_count": 16,
      "metadata": {
        "colab": {
          "base_uri": "https://localhost:8080/"
        },
        "id": "wVKPhDxFnB95",
        "outputId": "1eb05f1b-084e-43fe-a348-ef809297fa74"
      },
      "outputs": [
        {
          "name": "stdout",
          "output_type": "stream",
          "text": [
            "3\n"
          ]
        }
      ],
      "source": [
        "a=int(input())\n",
        "b=[]"
      ]
    },
    {
      "cell_type": "code",
      "source": [
        "for i in range(2**a):\n",
        "  e = [i//2**j%2 for j in reversed(range(a))]\n",
        "  r = \"\".join([str(c) for c in e])\n",
        "  b.append(r)\n",
        "print(b)"
      ],
      "metadata": {
        "colab": {
          "base_uri": "https://localhost:8080/"
        },
        "id": "cFG_UU_5ne9o",
        "outputId": "813db5a6-96f1-426e-ec78-b01dca9a5a91"
      },
      "execution_count": 17,
      "outputs": [
        {
          "output_type": "stream",
          "name": "stdout",
          "text": [
            "['000', '001', '010', '011', '100', '101', '110', '111']\n"
          ]
        }
      ]
    }
  ]
}